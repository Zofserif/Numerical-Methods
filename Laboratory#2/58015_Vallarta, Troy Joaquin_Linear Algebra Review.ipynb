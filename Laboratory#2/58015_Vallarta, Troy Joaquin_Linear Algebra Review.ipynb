{
 "cells": [
  {
   "cell_type": "markdown",
   "metadata": {
    "id": "CPi23qJFCw2L"
   },
   "source": [
    "# Linear Algebra\n",
    "\n",
    "*** by T.J. Vallarta © 2021 ***\n",
    "\n",
    "Linear Algebra is one of the fundamental mathematics for Artificial Intelligence Development and also Computer Vision. We will see the applications of Linear Algebra in advanced mathematical techniques such as optimization, vectorized programming, and matrix manipulations. Today we will try to understand the basics of Linear Algebra using Python."
   ]
  },
  {
   "cell_type": "markdown",
   "metadata": {
    "id": "zfQWDrsEDzfi"
   },
   "source": [
    "## 1. Vectors\n",
    "NumPy or Numerical Python is a package or library that allows programmers to code and model computations and see them in action. You can check the [NumPy documentation](https://numpy.org/doc/stable/reference/index.html) on how to use their APIs.\n",
    "\n"
   ]
  },
  {
   "cell_type": "code",
   "execution_count": 2,
   "metadata": {
    "id": "NyKiAJagCr23"
   },
   "outputs": [
    {
     "name": "stdout",
     "output_type": "stream",
     "text": [
      "Requirement already satisfied: numpy in c:\\users\\tv\\anaconda3\\lib\\site-packages (1.19.2)\n",
      "NumPy library version: 1.19.2\n"
     ]
    }
   ],
   "source": [
    "## You can install NumPy in your local machine by doing the following line without the \"!\"\n",
    "!pip install numpy\n",
    "## But in Google Colab NumPy is already installed in your session.\n",
    "import numpy as np\n",
    "print(f'NumPy library version: {np.__version__}')"
   ]
  },
  {
   "cell_type": "markdown",
   "metadata": {
    "id": "wr7iZs8-ECIh"
   },
   "source": [
    "### Defining Vectors, Matrices, and Tensors\n",
    "Vectors, Matrices, and Tensors are the fundamental objects in Linear Algebra programming. We'll be defining each of these objects specifically in the Computer Science/Engineering perspective since it would be much confusing if we consider their Physics and Pure Mathematics definitions."
   ]
  },
  {
   "cell_type": "markdown",
   "metadata": {
    "id": "hXyQT1GoEICC"
   },
   "source": [
    "#### <i>Scalars</i>\n",
    "Scalars are numerical entities that are represented by a single value. "
   ]
  },
  {
   "cell_type": "code",
   "execution_count": 3,
   "metadata": {
    "id": "euMYAk53D96k"
   },
   "outputs": [
    {
     "data": {
      "text/plain": [
       "array(5)"
      ]
     },
     "execution_count": 3,
     "metadata": {},
     "output_type": "execute_result"
    }
   ],
   "source": [
    "x = np.array(5)\n",
    "x"
   ]
  },
  {
   "cell_type": "markdown",
   "metadata": {
    "id": "FJWsNnsnEKPR"
   },
   "source": [
    "#### *Vectors*\n",
    "Vectors are array of numerical values or scalars that would represent any feature space. Feature spaces or simply dimensions or the parameters of an equation or a function."
   ]
  },
  {
   "cell_type": "code",
   "execution_count": 4,
   "metadata": {
    "id": "Y6kqO2sLEOY7"
   },
   "outputs": [
    {
     "data": {
      "text/plain": [
       "array([1, 2, 3])"
      ]
     },
     "execution_count": 4,
     "metadata": {},
     "output_type": "execute_result"
    }
   ],
   "source": [
    "v = np.array([1,2,3])\n",
    "v"
   ]
  },
  {
   "cell_type": "markdown",
   "metadata": {
    "id": "UpTSGTl0EOqx"
   },
   "source": [
    "#### *Matrices*\n",
    "Matrices are array of vectors or a multi-dimensional array for features for an equation or function."
   ]
  },
  {
   "cell_type": "code",
   "execution_count": 5,
   "metadata": {
    "id": "9RyugRXrEQab"
   },
   "outputs": [
    {
     "data": {
      "text/plain": [
       "array([[1, 2, 3, 4],\n",
       "       [5, 6, 7, 8]])"
      ]
     },
     "execution_count": 5,
     "metadata": {},
     "output_type": "execute_result"
    }
   ],
   "source": [
    "A = np.array([\n",
    "    [1,2,3,4],\n",
    "    [5,6,7,8]\n",
    "             ])\n",
    "A"
   ]
  },
  {
   "cell_type": "markdown",
   "metadata": {
    "id": "7aHsGCpoEQ_h"
   },
   "source": [
    "#### *Tensors*\n",
    "Tensors are an array of matrices. Tensors have dimensions, tensors can have alternate names depending on what dimension they are in. 1D tensors can be considered as vectors, 2D tensors can be considered are matrices, and 3D onwards are called high dimensional tensors."
   ]
  },
  {
   "cell_type": "code",
   "execution_count": 6,
   "metadata": {
    "id": "0LsB8OX7EWiJ"
   },
   "outputs": [
    {
     "data": {
      "text/plain": [
       "array([[[1, 2, 3, 4],\n",
       "        [5, 6, 7, 8],\n",
       "        [5, 7, 6, 9]],\n",
       "\n",
       "       [[0, 1, 2, 8],\n",
       "        [8, 5, 6, 1],\n",
       "        [1, 1, 1, 1]],\n",
       "\n",
       "       [[0, 1, 2, 8],\n",
       "        [8, 5, 6, 1],\n",
       "        [2, 2, 2, 2]]])"
      ]
     },
     "execution_count": 6,
     "metadata": {},
     "output_type": "execute_result"
    }
   ],
   "source": [
    "T = np.array([\n",
    "    [[1,2,3,4],[5,6,7,8],[5,7,6,9]],\n",
    "    [[0,1,2,8],[8,5,6,1],[1,1,1,1]],\n",
    "    [[0,1,2,8],[8,5,6,1],[2,2,2,2]]\n",
    "])\n",
    "\n",
    "T"
   ]
  },
  {
   "cell_type": "markdown",
   "metadata": {
    "id": "bpwgaV-mESxA"
   },
   "source": [
    "Here's a visual representation of the data types that we are going to use. <br>\n",
    "<img src=\"https://static.javatpoint.com/tutorial/pytorch/images/pytorch-tensors.png\">\n",
    "\n"
   ]
  },
  {
   "cell_type": "markdown",
   "metadata": {
    "id": "DuSXe7etEZPQ"
   },
   "source": [
    "### Describing Tensors\n",
    "\n",
    "Describing tensors is very important if we want to perform basic to advanced operations with them. The fundamental ways in describing tensors are knowing their shape, size, and dimensions.\n"
   ]
  },
  {
   "cell_type": "markdown",
   "metadata": {
    "id": "SwgpdKt9Em2J"
   },
   "source": [
    "#### *Shapes*\n",
    "The shape of a tensor tells us how many rows and columns are there in an axis.\n"
   ]
  },
  {
   "cell_type": "code",
   "execution_count": 7,
   "metadata": {
    "id": "1_zIw1OsEluE"
   },
   "outputs": [
    {
     "name": "stdout",
     "output_type": "stream",
     "text": [
      "()\n",
      "(3,)\n",
      "(2, 4)\n",
      "(3, 3, 4)\n",
      "3\n"
     ]
    }
   ],
   "source": [
    "print(x.shape)       ## signify as scalar\n",
    "\n",
    "print(v.shape)      \n",
    "\n",
    "\n",
    "print(A.shape)\n",
    "\n",
    "\n",
    "print(T.shape)\n",
    "\n",
    "print(T.ndim)"
   ]
  },
  {
   "cell_type": "markdown",
   "metadata": {
    "id": "8ApYwUyQEpmx"
   },
   "source": [
    "#### <i>Dimensions</i>\n",
    "In NumPy the dimension of a tensor is also called axes."
   ]
  },
  {
   "cell_type": "code",
   "execution_count": null,
   "metadata": {
    "id": "LCfMGIsrErwR"
   },
   "outputs": [],
   "source": []
  },
  {
   "cell_type": "markdown",
   "metadata": {
    "id": "DbzQSFQ1EsPB"
   },
   "source": [
    "#### *Sizes*\n",
    "The size of a tensor/ vector/ matrix is simply the total number of elements in it."
   ]
  },
  {
   "cell_type": "code",
   "execution_count": null,
   "metadata": {
    "id": "H6HtwIRBEvUB"
   },
   "outputs": [],
   "source": []
  },
  {
   "cell_type": "markdown",
   "metadata": {
    "id": "bfLvsCCdEvzR"
   },
   "source": [
    "## Types of Matrices\n",
    "The notation and use of matrices are probably one of the fundamentals of modern computing. Matrices are also handy representations of complex equations or multiple inter-related equations from 2-dimensional equations to even hundreds and thousands of them.\n",
    "\n",
    "Let's say for example you have $A$ and $B$ as the system of equations.\n",
    "\n",
    "$$\n",
    "A = \\left\\{\n",
    "    \\begin{array}\\\\\n",
    "        x + y \\\\ \n",
    "        4x - 10y\n",
    "    \\end{array}\n",
    "\\right. \\\\\n",
    "B = \\left\\{\n",
    "    \\begin{array}\\\\\n",
    "        x+y+z \\\\ \n",
    "        3x -2y -z \\\\\n",
    "        -x + 4y +2z\n",
    "    \\end{array}\n",
    "\\right. $$\n",
    "\n",
    "We could see that $A$ is a system of 2 equations with 2 parameters. While $B$ is a system of 3 equations with 3 parameters. We can represent them as matrices as:\n",
    "\n",
    "$$\n",
    "A=\\begin{bmatrix} 1 & 1 \\\\ 4 & {-10}\\end{bmatrix} \\\\\n",
    "B=\\begin{bmatrix} 1 & 1 & 1 \\\\ 3 & -2 & -1 \\\\ -1 & 4 & 2\\end{bmatrix}\n",
    "$$\n",
    "\n",
    "We'll represent the system of linear equations as a matrix. The entities or numbers in matrices are called the elements of a matrix. These elements are arranged and ordered in rows and columns which form the list/array-like structure of matrices. And just like arrays, these elements are indexed according to their position with respect to their rows and columns. This can be represented just like the equation below. Whereas $A$ is a matrix consisting of elements denoted by $a_{i,j}$. Denoted by $i$ is the number of rows in the matrix while $j$ stands for the number of columns.<br>\n",
    "Do note that the $size$ of a matrix is $i\\times j$.\n",
    "$$A=\\begin{bmatrix}\n",
    "a_{(0,0)}&a_{(0,1)}&\\dots&a_{(0,j-1)}\\\\\n",
    "a_{(1,0)}&a_{(1,1)}&\\dots&a_{(1,j-1)}\\\\\n",
    "\\vdots&\\vdots&\\ddots&\\vdots&\\\\\n",
    "a_{(i-1,0)}&a_{(i-1,1)}&\\dots&a_{(i-1,j-1)}\n",
    "\\end{bmatrix}\n",
    "$$\n",
    "We already gone over some of the types of matrices as vectors but we'll further discuss them in this laboratory activity. Since you already know how to describe vectors using shape, dimensions and size attributes, we'll use them to analyze these matrices."
   ]
  },
  {
   "cell_type": "code",
   "execution_count": 8,
   "metadata": {
    "id": "uICoQit6E06p"
   },
   "outputs": [],
   "source": [
    "def describe_mat(matrix):\n",
    "    print(f'Matrix:\\n{matrix}\\n\\nShape:\\t{matrix.shape}\\nRank:\\t{matrix.ndim}\\n')"
   ]
  },
  {
   "cell_type": "code",
   "execution_count": 9,
   "metadata": {
    "id": "CbF8cedvE7Hr"
   },
   "outputs": [
    {
     "name": "stdout",
     "output_type": "stream",
     "text": [
      "Matrix:\n",
      "[[1 2 3 4]\n",
      " [5 6 7 8]]\n",
      "\n",
      "Shape:\t(2, 4)\n",
      "Rank:\t2\n",
      "\n"
     ]
    }
   ],
   "source": [
    "describe_mat(A)"
   ]
  },
  {
   "cell_type": "markdown",
   "metadata": {
    "id": "Ig-gl-rSE-uq"
   },
   "source": [
    "### Matrices according to shape"
   ]
  },
  {
   "cell_type": "markdown",
   "metadata": {
    "id": "VHRtsc3fFBWw"
   },
   "source": [
    "#### *Row and Column Matrices*\n",
    "\n",
    "Row and column matrices are common in vector and matrix computations. They can also represent row and column spaces of a bigger vector space. Row and column matrices are represented by a single column or single row. So with that being, the shape of row matrices would be $1 \\times j$ and column matrices would be $i \\times 1$."
   ]
  },
  {
   "cell_type": "code",
   "execution_count": 10,
   "metadata": {
    "id": "Ddc899xwFA7b"
   },
   "outputs": [
    {
     "name": "stdout",
     "output_type": "stream",
     "text": [
      "Matrix:\n",
      "[[1 2 3]]\n",
      "\n",
      "Shape:\t(1, 3)\n",
      "Rank:\t2\n",
      "\n"
     ]
    }
   ],
   "source": [
    "## Declaring a Row Matrix\n",
    "r = np.array([\n",
    "    [1,2,3]\n",
    "])\n",
    "\n",
    "describe_mat(r)  ## should be in rank 2"
   ]
  },
  {
   "cell_type": "code",
   "execution_count": 11,
   "metadata": {
    "id": "Y_7qozkmFHIj"
   },
   "outputs": [
    {
     "name": "stdout",
     "output_type": "stream",
     "text": [
      "Matrix:\n",
      "[[1]\n",
      " [2]\n",
      " [3]\n",
      " [3]]\n",
      "\n",
      "Shape:\t(4, 1)\n",
      "Rank:\t2\n",
      "\n"
     ]
    }
   ],
   "source": [
    "## Declaring a Column Matrix\n",
    "cols = np.array([\n",
    "    [1],[2],[3],[3]\n",
    "])\n",
    "\n",
    "describe_mat(cols)  "
   ]
  },
  {
   "cell_type": "markdown",
   "metadata": {
    "id": "B9v0LYERFK1a"
   },
   "source": [
    "#### <i>Square Matrices</i>\n",
    "Square matrices are matrices that have the same row and column sizes. We could say a matrix is square if $i = j$. We can tweak our matrix descriptor function to determine square matrices."
   ]
  },
  {
   "cell_type": "code",
   "execution_count": 12,
   "metadata": {
    "id": "TjUWmKseFIkL"
   },
   "outputs": [
    {
     "name": "stdout",
     "output_type": "stream",
     "text": [
      "Matrix:\n",
      "[[1 4]\n",
      " [5 1]]\n",
      "\n",
      "Shape:\t(2, 2)\n",
      "Rank:\t2\n",
      "\n"
     ]
    }
   ],
   "source": [
    "sq = np.array([\n",
    "    [1,4],\n",
    "    [5,1]\n",
    "])\n",
    "\n",
    "describe_mat(sq) ##only applies in 2nd dimension"
   ]
  },
  {
   "cell_type": "markdown",
   "metadata": {
    "id": "QLWp8IaxFQHJ"
   },
   "source": [
    "### Matrices according to element values"
   ]
  },
  {
   "cell_type": "markdown",
   "metadata": {
    "id": "YXYw9-pxFS8Z"
   },
   "source": [
    "#### <i>Empty Matrix</i>\n",
    "\n",
    "An empty Matrix is a matrix that has no elements. It is always a subspace of any vector or matrix."
   ]
  },
  {
   "cell_type": "code",
   "execution_count": 13,
   "metadata": {
    "id": "xlO-lmVBFRNA"
   },
   "outputs": [
    {
     "name": "stdout",
     "output_type": "stream",
     "text": [
      "[]\n"
     ]
    },
    {
     "data": {
      "text/plain": [
       "array([[[ 1.24610927e-306,  4.08730268e-296, -1.33940948e-310],\n",
       "        [ 2.15146084e-314,  1.60218627e-306,  9.34609111e-307]]])"
      ]
     },
     "execution_count": 13,
     "metadata": {},
     "output_type": "execute_result"
    }
   ],
   "source": [
    "nul = np.array([]) ## it is an empty matrix\n",
    "print(nul)\n",
    "null = np.empty((1,2,3)) ##dummy matrix\n",
    "null"
   ]
  },
  {
   "cell_type": "markdown",
   "metadata": {
    "id": "ofntAyNKFVkA"
   },
   "source": [
    "#### <i>Zero/Null Matrix</i>\n",
    "A zero matrix can be any rectangular matrix but with all elements having a value of 0. In most texts, the zero matrix is denoted as $\\emptyset$.<br>\n",
    "Check out: [`numpy.zeros`](https://numpy.org/doc/stable/reference/generated/numpy.zeros.html)"
   ]
  },
  {
   "cell_type": "code",
   "execution_count": 14,
   "metadata": {
    "id": "bN4orlEzFV34"
   },
   "outputs": [
    {
     "name": "stdout",
     "output_type": "stream",
     "text": [
      "[[0. 0. 0.]\n",
      " [0. 0. 0.]\n",
      " [0. 0. 0.]]\n"
     ]
    },
    {
     "data": {
      "text/plain": [
       "array([[2, 2, 2],\n",
       "       [2, 2, 2],\n",
       "       [2, 2, 2]])"
      ]
     },
     "execution_count": 14,
     "metadata": {},
     "output_type": "execute_result"
    }
   ],
   "source": [
    "zed = np.zeros((3,3))\n",
    "print(zed)\n",
    "\n",
    "zeed = np.full((3,3),2) ## last parameter changes the value\n",
    "zeed"
   ]
  },
  {
   "cell_type": "markdown",
   "metadata": {
    "id": "CHwAtgfaFWWY"
   },
   "source": [
    "#### <i>Ones Matrix</i>\n",
    "A ones matrix, just like zero matrices, can be any rectangular matrix but all of its elements are 1s instead of 0s.\n",
    "\n",
    "Check out: [`numpy.ones`](https://numpy.org/doc/stable/reference/generated/numpy.ones.html)"
   ]
  },
  {
   "cell_type": "code",
   "execution_count": 15,
   "metadata": {
    "id": "wZayvxxRFYHI"
   },
   "outputs": [
    {
     "data": {
      "text/plain": [
       "array([[1., 1., 1.],\n",
       "       [1., 1., 1.],\n",
       "       [1., 1., 1.]])"
      ]
     },
     "execution_count": 15,
     "metadata": {},
     "output_type": "execute_result"
    }
   ],
   "source": [
    "ones = np.ones((3,3))\n",
    "ones"
   ]
  },
  {
   "cell_type": "markdown",
   "metadata": {
    "id": "_Y2fAx-rFYgg"
   },
   "source": [
    "#### <i>Diagonal Matrix</i>\n",
    "\n",
    "Check out: [`numpy.diag`](https://numpy.org/doc/stable/reference/generated/numpy.diag.html)"
   ]
  },
  {
   "cell_type": "code",
   "execution_count": 16,
   "metadata": {
    "id": "qbl75HLUFaCQ"
   },
   "outputs": [
    {
     "data": {
      "text/plain": [
       "array([[9, 0, 0, 0],\n",
       "       [0, 8, 0, 0],\n",
       "       [0, 0, 5, 0],\n",
       "       [0, 0, 0, 4]])"
      ]
     },
     "execution_count": 16,
     "metadata": {},
     "output_type": "execute_result"
    }
   ],
   "source": [
    "diag = np.diag([9,8,5,4])\n",
    "diag"
   ]
  },
  {
   "cell_type": "markdown",
   "metadata": {
    "id": "pLxVWf2tFaaT"
   },
   "source": [
    "#### <i>Identity Matrix</i>\n",
    "An identity matrix is a special diagonal matrix in which the values at the diagonal are ones. In most texts, the identity matrix is denoted as $I$.<br>\n",
    "Check out: \n",
    "* [`numpy.eye`](https://numpy.org/doc/stable/reference/generated/numpy.eye.html)\n",
    "* [`numpy.identity`](https://numpy.org/doc/stable/reference/generated/numpy.identity.html)"
   ]
  },
  {
   "cell_type": "code",
   "execution_count": 17,
   "metadata": {
    "id": "snCHNo94FcuQ"
   },
   "outputs": [
    {
     "name": "stdout",
     "output_type": "stream",
     "text": [
      "[[1. 0. 0. 0. 0.]\n",
      " [0. 1. 0. 0. 0.]\n",
      " [0. 0. 1. 0. 0.]\n",
      " [0. 0. 0. 1. 0.]\n",
      " [0. 0. 0. 0. 1.]]\n"
     ]
    }
   ],
   "source": [
    "I = np.eye(5)\n",
    "print(I)\n",
    "## or use identity"
   ]
  },
  {
   "cell_type": "markdown",
   "metadata": {
    "id": "4sp2nmx1FdBg"
   },
   "source": [
    "#### <i>Scalar Matrix</i>\n",
    "Since scalars cannot be explicitly operated with matrices, one workaround is to convert scalars into matrices. This is done by a matrix with all diagonal values equal to the original scalar."
   ]
  },
  {
   "cell_type": "code",
   "execution_count": 18,
   "metadata": {
    "id": "y5kOPm9uFel4"
   },
   "outputs": [
    {
     "data": {
      "text/plain": [
       "array([[3., 0., 0.],\n",
       "       [0., 3., 0.],\n",
       "       [0., 0., 3.]])"
      ]
     },
     "execution_count": 18,
     "metadata": {},
     "output_type": "execute_result"
    }
   ],
   "source": [
    "scal = 3*np.eye(3)\n",
    "scal"
   ]
  },
  {
   "cell_type": "markdown",
   "metadata": {
    "id": "LRidQS1PFfSB"
   },
   "source": [
    "#### <i>Upper Triangular Matrix</i>\n",
    "An upper triangular matrix is a matrix that has no values below the diagonal."
   ]
  },
  {
   "cell_type": "code",
   "execution_count": 19,
   "metadata": {
    "id": "Hznqw8iIFhPo"
   },
   "outputs": [
    {
     "data": {
      "text/plain": [
       "array([[1, 1, 1],\n",
       "       [0, 1, 1],\n",
       "       [0, 0, 1]])"
      ]
     },
     "execution_count": 19,
     "metadata": {},
     "output_type": "execute_result"
    }
   ],
   "source": [
    "upper = np.array([\n",
    "    [1,1,1],\n",
    "    [0,1,1],\n",
    "    [0,0,1]\n",
    "])\n",
    "upper"
   ]
  },
  {
   "cell_type": "markdown",
   "metadata": {
    "id": "fIt_zh7vFhuy"
   },
   "source": [
    "#### <i>Lower Triangular Matrix</i>\n",
    "\n",
    "\n",
    "A lower triangular matrix is a matrix that has no values above the diagonal."
   ]
  },
  {
   "cell_type": "code",
   "execution_count": 20,
   "metadata": {
    "id": "L8AHzCphFjTh"
   },
   "outputs": [
    {
     "data": {
      "text/plain": [
       "array([[1, 0, 0],\n",
       "       [1, 1, 0],\n",
       "       [1, 1, 1]])"
      ]
     },
     "execution_count": 20,
     "metadata": {},
     "output_type": "execute_result"
    }
   ],
   "source": [
    "lower = np.array([\n",
    "    [1,0,0],\n",
    "    [1,1,0],\n",
    "    [1,1,1],\n",
    "])\n",
    "lower"
   ]
  },
  {
   "cell_type": "markdown",
   "metadata": {
    "id": "YrHljLnqFkGp"
   },
   "source": [
    "# Matrix / Tensor Algebra\n",
    "Moving forward with matrices, vectors, and tensors. We'll try to see them in action using the commonly used operations for tensors. We will now dwell on the concepts and applications of Tensor Algebra"
   ]
  },
  {
   "cell_type": "markdown",
   "metadata": {
    "id": "DHOcEAhmFnqx"
   },
   "source": [
    "## Arithmetic / Element-wise Operations\n",
    "Check out: \n",
    "* [`numpy.add`](https://numpy.org/doc/stable/reference/generated/numpy.add.html)\n",
    "* [`numpy.sum`](https://numpy.org/doc/stable/reference/generated/numpy.sum.html)\n",
    "* [`numpy.subtract`](https://numpy.org/doc/stable/reference/generated/numpy.subtract.html)\n",
    "* [`numpy.multiply`](https://numpy.org/doc/stable/reference/generated/numpy.multiply.html)\n",
    "* [`numpy.square`](https://numpy.org/doc/stable/reference/generated/numpy.square.html)\n",
    "* [`numpy.divide`](https://numpy.org/doc/stable/reference/generated/numpy.divide.html)"
   ]
  },
  {
   "cell_type": "code",
   "execution_count": 21,
   "metadata": {
    "id": "2uWM0oFZFmTJ"
   },
   "outputs": [
    {
     "data": {
      "text/plain": [
       "array([[-1. ,  2. ],\n",
       "       [ 0. , -3.5]])"
      ]
     },
     "execution_count": 21,
     "metadata": {},
     "output_type": "execute_result"
    }
   ],
   "source": [
    "## Addition\n",
    "A = np.array([\n",
    "    [1,3],\n",
    "    [0,-4]\n",
    "])\n",
    "\n",
    "B = np.array([\n",
    "    [-2,-1],\n",
    "    [0,0.5]\n",
    "])\n",
    "np.add(A,B)"
   ]
  },
  {
   "cell_type": "code",
   "execution_count": 22,
   "metadata": {
    "id": "BRgjTiETFqzK"
   },
   "outputs": [
    {
     "data": {
      "text/plain": [
       "array([[ 3. ,  4. ],\n",
       "       [ 0. , -4.5]])"
      ]
     },
     "execution_count": 22,
     "metadata": {},
     "output_type": "execute_result"
    }
   ],
   "source": [
    "## Subtraction\n",
    "\n",
    "A-B"
   ]
  },
  {
   "cell_type": "code",
   "execution_count": 23,
   "metadata": {
    "id": "gaq2uDF1Fr1x"
   },
   "outputs": [
    {
     "data": {
      "text/plain": [
       "array([[-2., -3.],\n",
       "       [ 0., -2.]])"
      ]
     },
     "execution_count": 23,
     "metadata": {},
     "output_type": "execute_result"
    }
   ],
   "source": [
    "## Multiplication\n",
    "A**2 ## square\n",
    "A*B\n",
    "np.multiply(A,B)"
   ]
  },
  {
   "cell_type": "code",
   "execution_count": 24,
   "metadata": {
    "id": "nmZ5be7lFup5"
   },
   "outputs": [
    {
     "name": "stderr",
     "output_type": "stream",
     "text": [
      "<ipython-input-24-fe20e2a4bd4c>:2: RuntimeWarning: divide by zero encountered in true_divide\n",
      "  1/A##reciprocal(be careful)\n",
      "<ipython-input-24-fe20e2a4bd4c>:3: RuntimeWarning: invalid value encountered in floor_divide\n",
      "  A//B## floor division\n",
      "<ipython-input-24-fe20e2a4bd4c>:5: RuntimeWarning: invalid value encountered in true_divide\n",
      "  A/B\n"
     ]
    },
    {
     "data": {
      "text/plain": [
       "array([[-0.5, -3. ],\n",
       "       [ nan, -8. ]])"
      ]
     },
     "execution_count": 24,
     "metadata": {},
     "output_type": "execute_result"
    }
   ],
   "source": [
    "## Division\n",
    "1/A##reciprocal(be careful)\n",
    "A//B## floor division\n",
    "\n",
    "A/B\n",
    "\n",
    "##element-wise"
   ]
  },
  {
   "cell_type": "markdown",
   "metadata": {
    "id": "teroH5PJF1Fw"
   },
   "source": [
    "## Transpose of a Matrix\n",
    "One of the fundamental operations in matrix algebra is Transposition. The transpose of a matrix is done by flipping the values of its elements over its diagonals. With this, the rows and columns from the original matrix will be switched. So for a matrix $A$ its transpose is denoted as $A^T$. So for example:\n",
    "\n",
    "$$A = \\begin{bmatrix} 1 & 2 & 5\\\\5 & -1 &0 \\\\ 0 & -3 & 3\\end{bmatrix} $$\n",
    "$$ A^T = \\begin{bmatrix} 1 & 5 & 0\\\\2 & -1 &-3 \\\\ 5 & 0 & 3\\end{bmatrix}$$\n",
    "This can now be achieved programmatically by using `np.transpose()` or using the `T` method.<br>\n",
    "Check out:\n",
    "* [`np.transpose`](https://numpy.org/doc/stable/reference/generated/numpy.transpose.html)\n"
   ]
  },
  {
   "cell_type": "code",
   "execution_count": 25,
   "metadata": {
    "id": "GbI3wbxTF3pJ"
   },
   "outputs": [
    {
     "data": {
      "text/plain": [
       "array([[ 1,  0],\n",
       "       [ 3, -4]])"
      ]
     },
     "execution_count": 25,
     "metadata": {},
     "output_type": "execute_result"
    }
   ],
   "source": [
    "np.transpose(A) ## useful in higher level of mathematics"
   ]
  },
  {
   "cell_type": "markdown",
   "metadata": {
    "id": "66BnVMxeF5rB"
   },
   "source": [
    "## Vector Product\n",
    "The inner product of a vector is the sum of the products of each element of the vectors. So given vectors $H$ and $G$ below:\n",
    "$$H=\\begin{bmatrix}1\\\\3\\\\6\\end{bmatrix}, G = \\begin{bmatrix}5\\\\2\\\\1\\end{bmatrix}$$\n",
    "We first take the element-wise product of the vectors:\n",
    "$$H*G = \\begin{bmatrix}5\\\\6\\\\6\\end{bmatrix}$$\n",
    "Then we take the sum of the products, making it the inner product of a vector:\n",
    "$$H\\cdot G = 17$$\n",
    "You can solve for the inner product using an explicit function, `np.inner()` or the `@` operator.<br>\n",
    "Check out:\n",
    "* [`np.inner`](https://numpy.org/doc/stable/reference/generated/numpy.inner.html)"
   ]
  },
  {
   "cell_type": "code",
   "execution_count": 26,
   "metadata": {
    "id": "-m73UfOQF764"
   },
   "outputs": [
    {
     "data": {
      "text/plain": [
       "array([[-5. ,  1.5],\n",
       "       [ 4. , -2. ]])"
      ]
     },
     "execution_count": 26,
     "metadata": {},
     "output_type": "execute_result"
    }
   ],
   "source": [
    "\n",
    "np.inner(A,B)## element-wise\n"
   ]
  },
  {
   "cell_type": "markdown",
   "metadata": {
    "id": "1yvij6t2F90h"
   },
   "source": [
    "In matrix dot products, we are going to get the sum of products of the vectors by row-column pairs. So if we have two matrices $X$ and $Y$:\n",
    "\n",
    "$$X = \\begin{bmatrix}x_{(0,0)}&x_{(0,1)}\\\\ x_{(1,0)}&x_{(1,1)}\\end{bmatrix}, Y = \\begin{bmatrix}y_{(0,0)}&y_{(0,1)}\\\\ y_{(1,0)}&y_{(1,1)}\\end{bmatrix}$$\n",
    "\n",
    "The dot product will then be computed as:\n",
    "$$X \\cdot Y= \\begin{bmatrix} x_{(0,0)}*y_{(0,0)} + x_{(0,1)}*y_{(1,0)} & x_{(0,0)}*y_{(0,1)} + x_{(0,1)}*y_{(1,1)} \\\\  x_{(1,0)}*y_{(0,0)} + x_{(1,1)}*y_{(1,0)} & x_{(1,0)}*y_{(0,1)} + x_{(1,1)}*y_{(1,1)}\n",
    "\\end{bmatrix}$$\n",
    "\n",
    "So if we assign values to $X$ and $Y$:\n",
    "$$X = \\begin{bmatrix}1&2\\\\0&1\\end{bmatrix}, Y = \\begin{bmatrix}-1&0\\\\ 2&2\\end{bmatrix}$$\n",
    "Check out:\n",
    "* [`np.dot`](https://numpy.org/doc/stable/reference/generated/numpy.inner.html)"
   ]
  },
  {
   "cell_type": "code",
   "execution_count": 27,
   "metadata": {
    "id": "HdKvvQ4IF-Ep"
   },
   "outputs": [
    {
     "data": {
      "text/plain": [
       "array([[-2. ,  0.5],\n",
       "       [ 0. , -2. ]])"
      ]
     },
     "execution_count": 27,
     "metadata": {},
     "output_type": "execute_result"
    }
   ],
   "source": [
    "np.dot(A,B)\n",
    "A@B"
   ]
  },
  {
   "cell_type": "markdown",
   "metadata": {
    "id": "_oK1tJptGAER"
   },
   "source": [
    "In matrix dot products there are additional rules compared with vector dot products. Since vector dot products were just in one dimension, there are fewer restrictions. Since now we are dealing with Rank 2 vectors we need to consider some rules:\n",
    "\n",
    "**Rule 1: The inner dimensions of the two matrices in question must be the same.**\n",
    "\n",
    "So given a matrix $A$ with a shape of $(a,b)$ where $a$ and $b$ are any integers. If we want to do a dot product between $A$ and another matrix $B$, then matrix $B$ should have a shape of $(b,c)$ where $b$ and $c$ are any integers. So for given the following matrices:\n",
    "\n",
    "$$A = \\begin{bmatrix}2&4\\\\5&-2\\\\0&1\\end{bmatrix}, B = \\begin{bmatrix}1&1\\\\3&3\\\\-1&-2\\end{bmatrix}, C = \\begin{bmatrix}0&1&1\\\\1&1&2\\end{bmatrix}$$\n",
    "\n",
    "So in this case $A$ has a shape of $(3,2)$, $B$ has a shape of $(3,2)$ and $C$ has a shape of $(2,3)$. So the only matrix pairs that is eligible to perform dot product is matrices $A \\cdot C$, or $B \\cdot C$.  "
   ]
  },
  {
   "cell_type": "code",
   "execution_count": null,
   "metadata": {
    "id": "JxDIYsPcGF3p"
   },
   "outputs": [],
   "source": []
  },
  {
   "cell_type": "markdown",
   "metadata": {
    "id": "MfSjkrITGGOZ"
   },
   "source": [
    "**Rule 2: Dot Product has special properties**\n",
    "\n",
    "Dot products are prevalent in matrix algebra, this implies that it has several unique properties and it should be considered when formulation solutions:\n",
    " 1. $A \\cdot B \\neq B \\cdot A$\n",
    " 2. $A \\cdot (B \\cdot C) = (A \\cdot B) \\cdot C$\n",
    " 3. $A\\cdot(B+C) = A\\cdot B + A\\cdot C$\n",
    " 4. $(B+C)\\cdot A = B\\cdot A + C\\cdot A$\n",
    " 5. $A\\cdot I = A$\n",
    " 6. $A\\cdot \\emptyset = \\emptyset$ "
   ]
  },
  {
   "cell_type": "code",
   "execution_count": null,
   "metadata": {
    "id": "g4dRHPVOGlig"
   },
   "outputs": [],
   "source": []
  },
  {
   "cell_type": "markdown",
   "metadata": {
    "id": "IMysYX4QGiuQ"
   },
   "source": [
    "## Determinants\n",
    "A determinant is a scalar value derived from a square matrix. The determinant is a fundamental and important value used in matrix algebra. \n",
    "\n",
    "The determinant of some matrix $A$ is denoted as $det(A)$ or $|A|$. So let's say $A$ is represented as:\n",
    "$$A = \\begin{bmatrix}a_{(0,0)}&a_{(0,1)}\\\\a_{(1,0)}&a_{(1,1)}\\end{bmatrix}$$\n",
    "We can compute for the determinant as:\n",
    "$$|A| = a_{(0,0)}*a_{(1,1)} - a_{(1,0)}*a_{(0,1)}$$\n",
    "So if we have $A$ as:\n",
    "$$A = \\begin{bmatrix}1&4\\\\0&3\\end{bmatrix}, |A| = 3$$\n",
    "\n",
    "But you might wonder how about square matrices beyond the shape $(2,2)$? We can approach this problem by using several methods such as co-factor expansion and the minors method. This can be taught in the lecture of the laboratory but we can achieve the strenuous computation of high-dimensional matrices programmatically using Python. We can achieve this by using [`np.linalg.det`](https://numpy.org/doc/stable/reference/generated/numpy.linalg.det.html)."
   ]
  },
  {
   "cell_type": "code",
   "execution_count": 28,
   "metadata": {
    "id": "Sj5X1o_mGIRg"
   },
   "outputs": [
    {
     "data": {
      "text/plain": [
       "-4.0"
      ]
     },
     "execution_count": 28,
     "metadata": {},
     "output_type": "execute_result"
    }
   ],
   "source": [
    "np.linalg.det(A) ## checks the linearity"
   ]
  },
  {
   "cell_type": "markdown",
   "metadata": {
    "id": "7j3EPb9ZGsdI"
   },
   "source": [
    "## 2.6 Matrix Inverse\n",
    "\n",
    "The inverse of a matrix is another fundamental operation in matrix algebra. Determining the inverse of a matrix let us determine if its solvability and its characteristic as a system of linear equation. Another use of the inverse matrix is solving the problem of divisibility between matrices. Although element-wise division exist but dividing the entire concept of matrices does not exists. Inverse matrices provide a related operation that could have the same concept of \"dividing\" matrices.\n",
    "\n",
    "Now to determine the inverse of a matrix we need to perform several steps. So let's say we have a matrix $M$:\n",
    "$$M = \\begin{bmatrix}1&7\\\\-3&5\\end{bmatrix}$$\n",
    "First, we need to get the determinant of $M$.\n",
    "$$|M| = (1)(5)-(-3)(7) = 26$$\n",
    "Next, we need to reform the matrix into the inverse form:\n",
    "$$M^{-1} = \\frac{1}{|M|} \\begin{bmatrix} m_{(1,1)} & -m_{(0,1)} \\\\ -m_{(1,0)} & m_{(0,0)}\\end{bmatrix}$$\n",
    "So that will be:\n",
    "$$M^{-1} = \\frac{1}{26} \\begin{bmatrix} 5 & -7 \\\\ 3 & 1\\end{bmatrix} = \\begin{bmatrix} \\frac{5}{26} & \\frac{-7}{26} \\\\ \\frac{3}{26} & \\frac{1}{26}\\end{bmatrix}$$\n",
    "For higher-dimension matrices, you might need to use co-factors, minors, adjugates, and other reduction techniques. To solve this programmatically we can use [`np.linalg.inv`](https://numpy.org/doc/stable/reference/generated/numpy.linalg.inv.html).\n",
    "\n",
    "To validate the wether if the matric that you have solved is really the inverse, we follow this dot product property for a matrix $M$:\n",
    "$$M\\cdot M^{-1} = I$$"
   ]
  },
  {
   "cell_type": "code",
   "execution_count": 29,
   "metadata": {
    "id": "no8zVYLmGuJ9"
   },
   "outputs": [
    {
     "data": {
      "text/plain": [
       "array([[1.00000000e+00, 5.55111512e-17],\n",
       "       [0.00000000e+00, 1.00000000e+00]])"
      ]
     },
     "execution_count": 29,
     "metadata": {},
     "output_type": "execute_result"
    }
   ],
   "source": [
    "M = np.array([\n",
    "    [1,7],\n",
    "    [-3,5]\n",
    "])\n",
    "\n",
    "np.linalg.inv(M)\n",
    "\n",
    "M @ np.linalg.inv(M) ## identity matrix"
   ]
  },
  {
   "cell_type": "markdown",
   "metadata": {
    "id": "hmNLmGPvGuig"
   },
   "source": [
    "# System of Linear Equations\n",
    "\n",
    "Solving linear equations is one of the fundamental skills of higher engineering mathematics. Aside from solving them, we must be skilled enough to spot them in the wild as well.\n",
    "\n",
    "Given an equation:\n",
    "$$\n",
    "B = \\left\\{\n",
    "    \\begin{array}\\\\\n",
    "        x+y+z=1\\\\ \n",
    "        3x -2y -z=4 \\\\\n",
    "        -x + 4y +2z=-3\n",
    "    \\end{array}\n",
    "\\right. $$\n",
    "\n",
    "We can represent it in matrix form considering the linear combination of the equations. We can also think of its dot product form:\n",
    "$$\n",
    "\\begin{bmatrix}1&1&1\\\\3&-2&-1\\\\-1&4&2\\end{bmatrix} \\cdot \\begin{bmatrix}x\\\\ y\\\\ z\\end{bmatrix} = \\begin{bmatrix}1\\\\4\\\\-3\\end{bmatrix}\n",
    "$$\n",
    "We can make a general form for this equation by putting our matrices and vectors as variables. So let's say that the matrix $\\begin{bmatrix}1&1&1\\\\3&-2&-1\\\\-1&4&2\\end{bmatrix}$ is $X$ and $\\begin{bmatrix}x\\\\ y\\\\ z\\end{bmatrix} = \\begin{bmatrix}x\\\\y\\\\z\\end{bmatrix}$ is the vector $r$ then the answer $\\begin{bmatrix}1\\\\4\\\\-3\\end{bmatrix}$ as $Y$. So we'll have:\n",
    "$$\n",
    "X r = Y\n",
    "$$\n",
    "Our goal is to solve for $r$ so we can solve it algebraically by multiplying both sides with the inverse of $X$, so we'll get:\n",
    "$$\n",
    "X^{-1}X r = X^{-1}Y\\\\\n",
    "Ir = X^{-1}Y\\\\\n",
    "r = X^{-1}Y\n",
    "$$\n",
    "We'll take $r = X^{-1}Y$ as the $\\textbf{vectorized}$ equation as our formula in solving for the vector $r$ or simply solving for $x,y,$and$z$. We can then code that as:"
   ]
  },
  {
   "cell_type": "code",
   "execution_count": 30,
   "metadata": {
    "id": "GzoKTOWMG8Hh"
   },
   "outputs": [],
   "source": [
    "## np.linalg.solve      refresh on this "
   ]
  },
  {
   "cell_type": "markdown",
   "metadata": {
    "id": "h9cOTHv2IpS4"
   },
   "source": [
    "### Visualizing Vectors\n",
    "\n",
    "So far I know you have been experiencing mathematical exhaustion due to all these mathematical expressions. Allow me to show you a tad more interesting side of Linear Algebra.\n",
    "\n",
    "Undoubtedly, one of the most interesting and frustrating parts of Data Analysts and Data Scientist is visualizing data. Although we will be visualizing more on matrices and tensors. So, bear with me here and I'll try to spark a bit of interest in you guys. "
   ]
  },
  {
   "cell_type": "code",
   "execution_count": 31,
   "metadata": {
    "id": "Q2hEQblFIsAo"
   },
   "outputs": [],
   "source": [
    "### If you haven't installed it use:\n",
    "#!pip install matplotlib\n",
    "\n",
    "import matplotlib.pyplot as plt"
   ]
  },
  {
   "cell_type": "markdown",
   "metadata": {
    "id": "yTjmJzzfItuQ"
   },
   "source": [
    "#### <i>2D Cartersian Plots</i>\n",
    "Check out:\n",
    "* [`matplotlib.pyplot.xlim`](https://matplotlib.org/3.3.3/api/_as_gen/matplotlib.pyplot.xlim.html)\n",
    "* [`matplotlib.pyplot.ylim`](https://matplotlib.org/3.3.3/api/_as_gen/matplotlib.pyplot.ylim.html)\n",
    "* [`matplotlib.pyplot.quiver`](https://matplotlib.org/3.3.3/api/_as_gen/matplotlib.pyplot.quiver.html)\n",
    "* [`matplotlib.pyplot.grid`](https://matplotlib.org/3.3.3/api/_as_gen/matplotlib.pyplot.grid.html)\n",
    "* [`matplotlib.pyplot.show`](https://matplotlib.org/3.3.3/api/_as_gen/matplotlib.pyplot.show.html)"
   ]
  },
  {
   "cell_type": "code",
   "execution_count": 32,
   "metadata": {
    "id": "hg52Q9AKIvbI"
   },
   "outputs": [
    {
     "name": "stdout",
     "output_type": "stream",
     "text": [
      "[ 6 -2]\n"
     ]
    },
    {
     "data": {
      "image/png": "[encoded data removed]",
      "text/plain": [
       "<Figure size 432x288 with 1 Axes>"
      ]
     },
     "metadata": {
      "needs_background": "light"
     },
     "output_type": "display_data"
    }
   ],
   "source": [
    "A = np.array([4, 3])\n",
    "B = np.array([2, -5])\n",
    "\n",
    "# plt.xlim(-15, 15)\n",
    "# plt.ylim(-15, 15)\n",
    "plt.quiver(0,0, A[0], A[1], angles='xy', scale_units='xy',scale=1, color='red') # Red --> A\n",
    "plt.quiver(A[0], A[1], B[0], B[1], angles='xy', scale_units='xy',scale=1, color='b') # Blue --> B\n",
    "R = A + B\n",
    "print(R)\n",
    "\n",
    "plt.grid()\n",
    "# plt.show()\n"
   ]
  },
  {
   "cell_type": "markdown",
   "metadata": {
    "id": "06hJJe31I85Y"
   },
   "source": [
    "## Practice 1: Modulus of a Vector\n",
    "The modulus of a vector or the magnitude of a vector can be determined using the Pythagorean theorem. Given the vector $A$ and its scalars denoted as $a_n$ where $n$ is the index of the scalar. So if we have:\n",
    "$$A = \\begin{bmatrix}1\\\\2\\end{bmatrix}$$\n",
    "We can compute the magnitude as:\n",
    "$$||A|| = \\sqrt{a_1^2 + a_2^2} = \\sqrt{1^2 + 2^2} = \\sqrt{5}$$\n",
    "So if we have a matrix with more parameters such as:\n",
    "$$B=\\begin{bmatrix}2\\\\5\\\\-1\\\\0\\end{bmatrix}$$\n",
    "We can generalize the Pythagorean theorem to compute for the magnitude as:\n",
    "$$||B|| = \\sqrt{b_1^2 + b_2^2 + b_3^2 + ... +b_n^2} = \\sqrt{\\sum_{n=1}^{N}b_n^2}$$\n",
    "And this equation is now called a Euclidian distance or the Euclidean Norm. "
   ]
  },
  {
   "cell_type": "code",
   "execution_count": 36,
   "metadata": {
    "id": "evLYDA2dI9XQ"
   },
   "outputs": [
    {
     "data": {
      "text/plain": [
       "56.789083458002736"
      ]
     },
     "execution_count": 36,
     "metadata": {},
     "output_type": "execute_result"
    }
   ],
   "source": [
    "def modulus(mat):\n",
    "    ans= 0 \n",
    "    for i in range(len(mat)):\n",
    "        for j in range(len(mat[i])):\n",
    "            ans += mat[i][j]**2\n",
    "    return np.sqrt(ans)\n",
    "\n",
    "\n",
    "A = np.array([\n",
    "    [1,2,3],\n",
    "    [2,4,6],\n",
    "    [55,7,9]\n",
    "])\n",
    "\n",
    "modulus(A)\n",
    "# np.linalg.norm(A)"
   ]
  },
  {
   "cell_type": "markdown",
   "metadata": {
    "id": "BrzGwH5cI-Aw"
   },
   "source": [
    "## Practice 2: The Sigmoid\n",
    "The sigmoid function is one of the popular Activation Functions which we will discuss later on. The sigmoid is a bounded, differentiable, real function in which its range would be any value from 0 to 1. It is widely used in binary classifications.\n",
    "![image](https://upload.wikimedia.org/wikipedia/commons/thumb/8/88/Logistic-curve.svg/1200px-Logistic-curve.svg.png)\n",
    "If we were to check the equation characterizing this curve in textbooks or journals it would be:\n",
    "$$sig(x)=\\frac{1}{1+e^{-x}}$$\n",
    "or\n",
    "$$\\sigma(x)=\\frac{1}{1+e^{-x}}$$\n",
    "So let's try to translate this in NumPy. You might want to use [`numpy.exp`](https://numpy.org/doc/stable/reference/generated/numpy.exp.html) for this function. <br>\n",
    "If you want to read more about the sigmoid function click [here](https://medium.com/@himanshuxd/activation-functions-sigmoid-relu-leaky-relu-and-softmax-basics-for-neural-networks-and-deep-8d9c70eed91e)."
   ]
  },
  {
   "cell_type": "code",
   "execution_count": null,
   "metadata": {
    "id": "4UTUaj1pJAH3"
   },
   "outputs": [],
   "source": [
    "## translate this function using this code\n",
    "\n",
    "## declare a function similar to example 1\n",
    "## convert into a lambda\n",
    "## create a python package !! this is a group project\n",
    "\n",
    "## roots of equation"
   ]
  },
  {
   "cell_type": "code",
   "execution_count": 46,
   "metadata": {},
   "outputs": [
    {
     "name": "stdout",
     "output_type": "stream",
     "text": [
      "0.9933071490757153\n"
     ]
    }
   ],
   "source": [
    "def sig(x):\n",
    "    return 1/(1 + np.exp(-x))\n",
    "\n",
    "sigmoid = lambda x: 1/(1 + np.exp(-x))\n",
    "print(sigmoid(5))"
   ]
  },
  {
   "cell_type": "code",
   "execution_count": 62,
   "metadata": {},
   "outputs": [
    {
     "data": {
      "image/png": "[encoded data removed]",
      "text/plain": [
       "<Figure size 432x288 with 1 Axes>"
      ]
     },
     "metadata": {
      "needs_background": "light"
     },
     "output_type": "display_data"
    }
   ],
   "source": [
    "x = np.linspace(-6, 6)\n",
    "  \n",
    "plt.plot(x, sig(x)) \n",
    "plt.xlabel(\"x\") \n",
    "plt.ylabel(\"Sigmoid(X)\")\n",
    "\n",
    "plt.grid()  \n",
    "plt.show() "
   ]
  },
  {
   "cell_type": "markdown",
   "metadata": {},
   "source": [
    "[Google Colab](https://colab.research.google.com/drive/1S59WcNSzb5O3SFbJBWBSIxWC4drer8-q?usp=sharing)"
   ]
  }
 ],
 "metadata": {
  "colab": {
   "collapsed_sections": [],
   "name": "NuMeth 1 - Linear Algebra Review",
   "provenance": [],
   "toc_visible": true
  },
  "kernelspec": {
   "display_name": "Python 3",
   "language": "python",
   "name": "python3"
  },
  "language_info": {
   "codemirror_mode": {
    "name": "ipython",
    "version": 3
   },
   "file_extension": ".py",
   "mimetype": "text/x-python",
   "name": "python",
   "nbconvert_exporter": "python",
   "pygments_lexer": "ipython3",
   "version": "3.8.5"
  }
 },
 "nbformat": 4,
 "nbformat_minor": 1
}
